{
 "metadata": {
  "language_info": {
   "codemirror_mode": {
    "name": "ipython",
    "version": 3
   },
   "file_extension": ".py",
   "mimetype": "text/x-python",
   "name": "python",
   "nbconvert_exporter": "python",
   "pygments_lexer": "ipython3",
   "version": "3.8.3-final"
  },
  "orig_nbformat": 2,
  "kernelspec": {
   "name": "python_defaultSpec_1599931183130",
   "display_name": "Python 3.8.3 64-bit ('base': conda)"
  }
 },
 "nbformat": 4,
 "nbformat_minor": 2,
 "cells": [
  {
   "cell_type": "code",
   "execution_count": 11,
   "metadata": {
    "tags": []
   },
   "outputs": [
    {
     "output_type": "stream",
     "name": "stdout",
     "text": "Requirement already satisfied: ipythonblocks in c:\\users\\mauricio\\appdata\\local\\programs\\python\\python35\\lib\\site-packages (1.9.0)\nRequirement already satisfied: notebook>=4.0 in c:\\users\\mauricio\\appdata\\roaming\\python\\python35\\site-packages (from ipythonblocks) (6.0.3)\nRequirement already satisfied: ipython>=4.0 in c:\\users\\mauricio\\appdata\\roaming\\python\\python35\\site-packages (from ipythonblocks) (7.9.0)\nRequirement already satisfied: requests>=1.0 in c:\\users\\mauricio\\appdata\\local\\programs\\python\\python35\\lib\\site-packages (from ipythonblocks) (2.24.0)\nRequirement already satisfied: traitlets>=4.2.1 in c:\\users\\mauricio\\appdata\\roaming\\python\\python35\\site-packages (from notebook>=4.0->ipythonblocks) (4.3.3)\nRequirement already satisfied: nbconvert in c:\\users\\mauricio\\appdata\\roaming\\python\\python35\\site-packages (from notebook>=4.0->ipythonblocks) (5.6.1)\nRequirement already satisfied: nbformat in c:\\users\\mauricio\\appdata\\roaming\\python\\python35\\site-packages (from notebook>=4.0->ipythonblocks) (5.0.7)\nRequirement already satisfied: ipykernel in c:\\users\\mauricio\\appdata\\roaming\\python\\python35\\site-packages (from notebook>=4.0->ipythonblocks) (5.3.0)\nRequirement already satisfied: pyzmq>=17 in c:\\users\\mauricio\\appdata\\roaming\\python\\python35\\site-packages (from notebook>=4.0->ipythonblocks) (19.0.1)\nRequirement already satisfied: ipython-genutils in c:\\users\\mauricio\\appdata\\roaming\\python\\python35\\site-packages (from notebook>=4.0->ipythonblocks) (0.2.0)\nRequirement already satisfied: terminado>=0.8.1 in c:\\users\\mauricio\\appdata\\roaming\\python\\python35\\site-packages (from notebook>=4.0->ipythonblocks) (0.8.3)\nRequirement already satisfied: prometheus-client in c:\\users\\mauricio\\appdata\\roaming\\python\\python35\\site-packages (from notebook>=4.0->ipythonblocks) (0.8.0)\nRequirement already satisfied: jupyter-core>=4.6.1 in c:\\users\\mauricio\\appdata\\roaming\\python\\python35\\site-packages (from notebook>=4.0->ipythonblocks) (4.6.3)\nRequirement already satisfied: jinja2 in c:\\users\\mauricio\\appdata\\roaming\\python\\python35\\site-packages (from notebook>=4.0->ipythonblocks) (2.11.2)\nRequirement already satisfied: Send2Trash in c:\\users\\mauricio\\appdata\\roaming\\python\\python35\\site-packages (from notebook>=4.0->ipythonblocks) (1.5.0)\nRequirement already satisfied: jupyter-client>=5.3.4 in c:\\users\\mauricio\\appdata\\roaming\\python\\python35\\site-packages (from notebook>=4.0->ipythonblocks) (6.1.5)\nRequirement already satisfied: tornado>=5.0 in c:\\users\\mauricio\\appdata\\roaming\\python\\python35\\site-packages (from notebook>=4.0->ipythonblocks) (6.0.4)\nRequirement already satisfied: colorama; sys_platform == \"win32\" in c:\\users\\mauricio\\appdata\\local\\programs\\python\\python35\\lib\\site-packages (from ipython>=4.0->ipythonblocks) (0.3.7)\nRequirement already satisfied: prompt-toolkit<2.1.0,>=2.0.0 in c:\\users\\mauricio\\appdata\\roaming\\python\\python35\\site-packages (from ipython>=4.0->ipythonblocks) (2.0.10)\nRequirement already satisfied: win-unicode-console>=0.5; sys_platform == \"win32\" and python_version < \"3.6\" in c:\\users\\mauricio\\appdata\\roaming\\python\\python35\\site-packages (from ipython>=4.0->ipythonblocks) (0.5)\nRequirement already satisfied: decorator in c:\\users\\mauricio\\appdata\\roaming\\python\\python35\\site-packages (from ipython>=4.0->ipythonblocks) (4.4.2)\nRequirement already satisfied: pygments in c:\\users\\mauricio\\appdata\\roaming\\python\\python35\\site-packages (from ipython>=4.0->ipythonblocks) (2.6.1)\nRequirement already satisfied: pickleshare in c:\\users\\mauricio\\appdata\\roaming\\python\\python35\\site-packages (from ipython>=4.0->ipythonblocks) (0.7.5)\nRequirement already satisfied: jedi>=0.10 in c:\\users\\mauricio\\appdata\\roaming\\python\\python35\\site-packages (from ipython>=4.0->ipythonblocks) (0.17.1)\nRequirement already satisfied: setuptools>=18.5 in c:\\users\\mauricio\\appdata\\local\\programs\\python\\python35\\lib\\site-packages (from ipython>=4.0->ipythonblocks) (34.3.3)\nRequirement already satisfied: backcall in c:\\users\\mauricio\\appdata\\roaming\\python\\python35\\site-packages (from ipython>=4.0->ipythonblocks) (0.2.0)\nRequirement already satisfied: idna<3,>=2.5 in c:\\users\\mauricio\\appdata\\local\\programs\\python\\python35\\lib\\site-packages (from requests>=1.0->ipythonblocks) (2.10)\nRequirement already satisfied: chardet<4,>=3.0.2 in c:\\users\\mauricio\\appdata\\local\\programs\\python\\python35\\lib\\site-packages (from requests>=1.0->ipythonblocks) (3.0.4)\nRequirement already satisfied: urllib3!=1.25.0,!=1.25.1,<1.26,>=1.21.1 in c:\\users\\mauricio\\appdata\\local\\programs\\python\\python35\\lib\\site-packages (from requests>=1.0->ipythonblocks) (1.25.10)\nRequirement already satisfied: certifi>=2017.4.17 in c:\\users\\mauricio\\appdata\\local\\programs\\python\\python35\\lib\\site-packages (from requests>=1.0->ipythonblocks) (2020.6.20)\nRequirement already satisfied: six in c:\\users\\mauricio\\appdata\\local\\programs\\python\\python35\\lib\\site-packages (from traitlets>=4.2.1->notebook>=4.0->ipythonblocks) (1.10.0)\nRequirement already satisfied: entrypoints>=0.2.2 in c:\\users\\mauricio\\appdata\\roaming\\python\\python35\\site-packages (from nbconvert->notebook>=4.0->ipythonblocks) (0.3)\nRequirement already satisfied: bleach in c:\\users\\mauricio\\appdata\\roaming\\python\\python35\\site-packages (from nbconvert->notebook>=4.0->ipythonblocks) (3.1.5)\nRequirement already satisfied: testpath in c:\\users\\mauricio\\appdata\\roaming\\python\\python35\\site-packages (from nbconvert->notebook>=4.0->ipythonblocks) (0.4.4)\nRequirement already satisfied: mistune<2,>=0.8.1 in c:\\users\\mauricio\\appdata\\roaming\\python\\python35\\site-packages (from nbconvert->notebook>=4.0->ipythonblocks) (0.8.4)\nRequirement already satisfied: defusedxml in c:\\users\\mauricio\\appdata\\roaming\\python\\python35\\site-packages (from nbconvert->notebook>=4.0->ipythonblocks) (0.6.0)\nRequirement already satisfied: pandocfilters>=1.4.1 in c:\\users\\mauricio\\appdata\\roaming\\python\\python35\\site-packages (from nbconvert->notebook>=4.0->ipythonblocks) (1.4.2)\nRequirement already satisfied: jsonschema!=2.5.0,>=2.4 in c:\\users\\mauricio\\appdata\\roaming\\python\\python35\\site-packages (from nbformat->notebook>=4.0->ipythonblocks) (3.2.0)\nRequirement already satisfied: pywinpty>=0.5; os_name == \"nt\" in c:\\users\\mauricio\\appdata\\roaming\\python\\python35\\site-packages (from terminado>=0.8.1->notebook>=4.0->ipythonblocks) (0.5.7)\nRequirement already satisfied: pywin32>=1.0; sys_platform == \"win32\" in c:\\users\\mauricio\\appdata\\roaming\\python\\python35\\site-packages (from jupyter-core>=4.6.1->notebook>=4.0->ipythonblocks) (228)\nRequirement already satisfied: MarkupSafe>=0.23 in c:\\users\\mauricio\\appdata\\roaming\\python\\python35\\site-packages (from jinja2->notebook>=4.0->ipythonblocks) (1.1.1)\nRequirement already satisfied: python-dateutil>=2.1 in c:\\users\\mauricio\\appdata\\local\\programs\\python\\python35\\lib\\site-packages (from jupyter-client>=5.3.4->notebook>=4.0->ipythonblocks) (2.7.4)\nRequirement already satisfied: wcwidth in c:\\users\\mauricio\\appdata\\roaming\\python\\python35\\site-packages (from prompt-toolkit<2.1.0,>=2.0.0->ipython>=4.0->ipythonblocks) (0.2.5)\nRequirement already satisfied: parso<0.8.0,>=0.7.0 in c:\\users\\mauricio\\appdata\\roaming\\python\\python35\\site-packages (from jedi>=0.10->ipython>=4.0->ipythonblocks) (0.7.0)\nRequirement already satisfied: appdirs>=1.4.0 in c:\\users\\mauricio\\appdata\\local\\programs\\python\\python35\\lib\\site-packages (from setuptools>=18.5->ipython>=4.0->ipythonblocks) (1.4.3)\nRequirement already satisfied: packaging>=16.8 in c:\\users\\mauricio\\appdata\\local\\programs\\python\\python35\\lib\\site-packages (from setuptools>=18.5->ipython>=4.0->ipythonblocks) (16.8)\nRequirement already satisfied: webencodings in c:\\users\\mauricio\\appdata\\roaming\\python\\python35\\site-packages (from bleach->nbconvert->notebook>=4.0->ipythonblocks) (0.5.1)\nRequirement already satisfied: importlib-metadata; python_version < \"3.8\" in c:\\users\\mauricio\\appdata\\roaming\\python\\python35\\site-packages (from jsonschema!=2.5.0,>=2.4->nbformat->notebook>=4.0->ipythonblocks) (1.7.0)\nRequirement already satisfied: pyrsistent>=0.14.0 in c:\\users\\mauricio\\appdata\\roaming\\python\\python35\\site-packages (from jsonschema!=2.5.0,>=2.4->nbformat->notebook>=4.0->ipythonblocks) (0.16.0)\nRequirement already satisfied: attrs>=17.4.0 in c:\\users\\mauricio\\appdata\\roaming\\python\\python35\\site-packages (from jsonschema!=2.5.0,>=2.4->nbformat->notebook>=4.0->ipythonblocks) (19.3.0)\nRequirement already satisfied: pyparsing in c:\\users\\mauricio\\appdata\\local\\programs\\python\\python35\\lib\\site-packages (from packaging>=16.8->setuptools>=18.5->ipython>=4.0->ipythonblocks) (2.2.0)\nRequirement already satisfied: zipp>=0.5 in c:\\users\\mauricio\\appdata\\roaming\\python\\python35\\site-packages (from importlib-metadata; python_version < \"3.8\"->jsonschema!=2.5.0,>=2.4->nbformat->notebook>=4.0->ipythonblocks) (1.2.0)\nWARNING: You are using pip version 20.1.1; however, version 20.2.3 is available.\nYou should consider upgrading via the 'c:\\users\\mauricio\\appdata\\local\\programs\\python\\python35\\python.exe -m pip install --upgrade pip' command.\n"
    }
   ],
   "source": [
    "!pip install ipythonblocks\n",
    "\n",
    "from ipythonblocks import BlockGrid\n",
    "from aima import *\n",
    "from Objects import *"
   ]
  },
  {
   "cell_type": "markdown",
   "metadata": {},
   "source": [
    "# Environment"
   ]
  },
  {
   "cell_type": "code",
   "execution_count": 26,
   "metadata": {},
   "outputs": [],
   "source": [
    "class CleanupPuzzleEnvironment(Environment):\n",
    "    def __init__(self, width=11, height=11):\n",
    "        super(CleanupPuzzleEnvironment, self).__init__()\n",
    "        self.width = width\n",
    "        self.height = height\n",
    "\n",
    "        self.bg_color = (207, 216, 220)\n",
    "        self.ball_color = (0, 191, 165)\n",
    "        self.grid = BlockGrid(width, height, fill=self.bg_color)\n",
    "\n",
    "    def __str__(self):\n",
    "        world = self.get_world()\n",
    "        self.draw_grid(world)\n",
    "        self.grid.show()\n",
    "        return ''\n",
    "\n",
    "    def draw_grid(self, world):\n",
    "        self.grid[:] = self.bg_color\n",
    "        for x in range(0, len(world)):\n",
    "            for y in range(0, len(world[x])):\n",
    "                if len(world[x][y]):\n",
    "                    self.grid[x, y] = self.ball_color\n",
    "\n",
    "    def get_world(self):\n",
    "        '''returns the items in the world'''\n",
    "        result = []\n",
    "        for x in range(self.height):\n",
    "            row = []\n",
    "            for y in range(self.width):\n",
    "                row.append(self.list_things_at((x, y)))\n",
    "            result.append(row)\n",
    "        return result"
   ]
  },
  {
   "cell_type": "markdown",
   "metadata": {},
   "source": [
    "# Problem"
   ]
  },
  {
   "cell_type": "code",
   "execution_count": null,
   "metadata": {},
   "outputs": [],
   "source": []
  },
  {
   "cell_type": "markdown",
   "metadata": {},
   "source": [
    "# Test"
   ]
  },
  {
   "cell_type": "code",
   "execution_count": 28,
   "metadata": {
    "tags": []
   },
   "outputs": [
    {
     "output_type": "display_data",
     "data": {
      "text/html": "<style type=\"text/css\">table.blockgrid {border: none;} .blockgrid tr {border: none;} .blockgrid td {padding: 0px;} #blocks4bf57f35-1a41-4fab-ad0c-e535e6fd6353 td {border: 1px solid white;}</style><table id=\"blocks4bf57f35-1a41-4fab-ad0c-e535e6fd6353\" class=\"blockgrid\"><tbody><tr><td title=\"Index: [0, 0]&#10;Color: (207, 216, 220)\" style=\"width: 20px; height: 20px;background-color: rgb(207, 216, 220);\"></td><td title=\"Index: [0, 1]&#10;Color: (207, 216, 220)\" style=\"width: 20px; height: 20px;background-color: rgb(207, 216, 220);\"></td><td title=\"Index: [0, 2]&#10;Color: (207, 216, 220)\" style=\"width: 20px; height: 20px;background-color: rgb(207, 216, 220);\"></td><td title=\"Index: [0, 3]&#10;Color: (207, 216, 220)\" style=\"width: 20px; height: 20px;background-color: rgb(207, 216, 220);\"></td><td title=\"Index: [0, 4]&#10;Color: (207, 216, 220)\" style=\"width: 20px; height: 20px;background-color: rgb(207, 216, 220);\"></td><td title=\"Index: [0, 5]&#10;Color: (207, 216, 220)\" style=\"width: 20px; height: 20px;background-color: rgb(207, 216, 220);\"></td><td title=\"Index: [0, 6]&#10;Color: (207, 216, 220)\" style=\"width: 20px; height: 20px;background-color: rgb(207, 216, 220);\"></td><td title=\"Index: [0, 7]&#10;Color: (207, 216, 220)\" style=\"width: 20px; height: 20px;background-color: rgb(207, 216, 220);\"></td><td title=\"Index: [0, 8]&#10;Color: (207, 216, 220)\" style=\"width: 20px; height: 20px;background-color: rgb(207, 216, 220);\"></td><td title=\"Index: [0, 9]&#10;Color: (207, 216, 220)\" style=\"width: 20px; height: 20px;background-color: rgb(207, 216, 220);\"></td><td title=\"Index: [0, 10]&#10;Color: (207, 216, 220)\" style=\"width: 20px; height: 20px;background-color: rgb(207, 216, 220);\"></td></tr><tr><td title=\"Index: [1, 0]&#10;Color: (207, 216, 220)\" style=\"width: 20px; height: 20px;background-color: rgb(207, 216, 220);\"></td><td title=\"Index: [1, 1]&#10;Color: (207, 216, 220)\" style=\"width: 20px; height: 20px;background-color: rgb(207, 216, 220);\"></td><td title=\"Index: [1, 2]&#10;Color: (207, 216, 220)\" style=\"width: 20px; height: 20px;background-color: rgb(207, 216, 220);\"></td><td title=\"Index: [1, 3]&#10;Color: (207, 216, 220)\" style=\"width: 20px; height: 20px;background-color: rgb(207, 216, 220);\"></td><td title=\"Index: [1, 4]&#10;Color: (207, 216, 220)\" style=\"width: 20px; height: 20px;background-color: rgb(207, 216, 220);\"></td><td title=\"Index: [1, 5]&#10;Color: (207, 216, 220)\" style=\"width: 20px; height: 20px;background-color: rgb(207, 216, 220);\"></td><td title=\"Index: [1, 6]&#10;Color: (207, 216, 220)\" style=\"width: 20px; height: 20px;background-color: rgb(207, 216, 220);\"></td><td title=\"Index: [1, 7]&#10;Color: (207, 216, 220)\" style=\"width: 20px; height: 20px;background-color: rgb(207, 216, 220);\"></td><td title=\"Index: [1, 8]&#10;Color: (207, 216, 220)\" style=\"width: 20px; height: 20px;background-color: rgb(207, 216, 220);\"></td><td title=\"Index: [1, 9]&#10;Color: (207, 216, 220)\" style=\"width: 20px; height: 20px;background-color: rgb(207, 216, 220);\"></td><td title=\"Index: [1, 10]&#10;Color: (207, 216, 220)\" style=\"width: 20px; height: 20px;background-color: rgb(207, 216, 220);\"></td></tr><tr><td title=\"Index: [2, 0]&#10;Color: (207, 216, 220)\" style=\"width: 20px; height: 20px;background-color: rgb(207, 216, 220);\"></td><td title=\"Index: [2, 1]&#10;Color: (207, 216, 220)\" style=\"width: 20px; height: 20px;background-color: rgb(207, 216, 220);\"></td><td title=\"Index: [2, 2]&#10;Color: (207, 216, 220)\" style=\"width: 20px; height: 20px;background-color: rgb(207, 216, 220);\"></td><td title=\"Index: [2, 3]&#10;Color: (207, 216, 220)\" style=\"width: 20px; height: 20px;background-color: rgb(207, 216, 220);\"></td><td title=\"Index: [2, 4]&#10;Color: (207, 216, 220)\" style=\"width: 20px; height: 20px;background-color: rgb(207, 216, 220);\"></td><td title=\"Index: [2, 5]&#10;Color: (207, 216, 220)\" style=\"width: 20px; height: 20px;background-color: rgb(207, 216, 220);\"></td><td title=\"Index: [2, 6]&#10;Color: (207, 216, 220)\" style=\"width: 20px; height: 20px;background-color: rgb(207, 216, 220);\"></td><td title=\"Index: [2, 7]&#10;Color: (207, 216, 220)\" style=\"width: 20px; height: 20px;background-color: rgb(207, 216, 220);\"></td><td title=\"Index: [2, 8]&#10;Color: (207, 216, 220)\" style=\"width: 20px; height: 20px;background-color: rgb(207, 216, 220);\"></td><td title=\"Index: [2, 9]&#10;Color: (207, 216, 220)\" style=\"width: 20px; height: 20px;background-color: rgb(207, 216, 220);\"></td><td title=\"Index: [2, 10]&#10;Color: (207, 216, 220)\" style=\"width: 20px; height: 20px;background-color: rgb(207, 216, 220);\"></td></tr><tr><td title=\"Index: [3, 0]&#10;Color: (0, 191, 165)\" style=\"width: 20px; height: 20px;background-color: rgb(0, 191, 165);\"></td><td title=\"Index: [3, 1]&#10;Color: (207, 216, 220)\" style=\"width: 20px; height: 20px;background-color: rgb(207, 216, 220);\"></td><td title=\"Index: [3, 2]&#10;Color: (207, 216, 220)\" style=\"width: 20px; height: 20px;background-color: rgb(207, 216, 220);\"></td><td title=\"Index: [3, 3]&#10;Color: (207, 216, 220)\" style=\"width: 20px; height: 20px;background-color: rgb(207, 216, 220);\"></td><td title=\"Index: [3, 4]&#10;Color: (207, 216, 220)\" style=\"width: 20px; height: 20px;background-color: rgb(207, 216, 220);\"></td><td title=\"Index: [3, 5]&#10;Color: (207, 216, 220)\" style=\"width: 20px; height: 20px;background-color: rgb(207, 216, 220);\"></td><td title=\"Index: [3, 6]&#10;Color: (207, 216, 220)\" style=\"width: 20px; height: 20px;background-color: rgb(207, 216, 220);\"></td><td title=\"Index: [3, 7]&#10;Color: (207, 216, 220)\" style=\"width: 20px; height: 20px;background-color: rgb(207, 216, 220);\"></td><td title=\"Index: [3, 8]&#10;Color: (207, 216, 220)\" style=\"width: 20px; height: 20px;background-color: rgb(207, 216, 220);\"></td><td title=\"Index: [3, 9]&#10;Color: (207, 216, 220)\" style=\"width: 20px; height: 20px;background-color: rgb(207, 216, 220);\"></td><td title=\"Index: [3, 10]&#10;Color: (207, 216, 220)\" style=\"width: 20px; height: 20px;background-color: rgb(207, 216, 220);\"></td></tr><tr><td title=\"Index: [4, 0]&#10;Color: (207, 216, 220)\" style=\"width: 20px; height: 20px;background-color: rgb(207, 216, 220);\"></td><td title=\"Index: [4, 1]&#10;Color: (0, 191, 165)\" style=\"width: 20px; height: 20px;background-color: rgb(0, 191, 165);\"></td><td title=\"Index: [4, 2]&#10;Color: (207, 216, 220)\" style=\"width: 20px; height: 20px;background-color: rgb(207, 216, 220);\"></td><td title=\"Index: [4, 3]&#10;Color: (207, 216, 220)\" style=\"width: 20px; height: 20px;background-color: rgb(207, 216, 220);\"></td><td title=\"Index: [4, 4]&#10;Color: (207, 216, 220)\" style=\"width: 20px; height: 20px;background-color: rgb(207, 216, 220);\"></td><td title=\"Index: [4, 5]&#10;Color: (207, 216, 220)\" style=\"width: 20px; height: 20px;background-color: rgb(207, 216, 220);\"></td><td title=\"Index: [4, 6]&#10;Color: (207, 216, 220)\" style=\"width: 20px; height: 20px;background-color: rgb(207, 216, 220);\"></td><td title=\"Index: [4, 7]&#10;Color: (207, 216, 220)\" style=\"width: 20px; height: 20px;background-color: rgb(207, 216, 220);\"></td><td title=\"Index: [4, 8]&#10;Color: (207, 216, 220)\" style=\"width: 20px; height: 20px;background-color: rgb(207, 216, 220);\"></td><td title=\"Index: [4, 9]&#10;Color: (207, 216, 220)\" style=\"width: 20px; height: 20px;background-color: rgb(207, 216, 220);\"></td><td title=\"Index: [4, 10]&#10;Color: (207, 216, 220)\" style=\"width: 20px; height: 20px;background-color: rgb(207, 216, 220);\"></td></tr><tr><td title=\"Index: [5, 0]&#10;Color: (0, 191, 165)\" style=\"width: 20px; height: 20px;background-color: rgb(0, 191, 165);\"></td><td title=\"Index: [5, 1]&#10;Color: (207, 216, 220)\" style=\"width: 20px; height: 20px;background-color: rgb(207, 216, 220);\"></td><td title=\"Index: [5, 2]&#10;Color: (207, 216, 220)\" style=\"width: 20px; height: 20px;background-color: rgb(207, 216, 220);\"></td><td title=\"Index: [5, 3]&#10;Color: (207, 216, 220)\" style=\"width: 20px; height: 20px;background-color: rgb(207, 216, 220);\"></td><td title=\"Index: [5, 4]&#10;Color: (207, 216, 220)\" style=\"width: 20px; height: 20px;background-color: rgb(207, 216, 220);\"></td><td title=\"Index: [5, 5]&#10;Color: (207, 216, 220)\" style=\"width: 20px; height: 20px;background-color: rgb(207, 216, 220);\"></td><td title=\"Index: [5, 6]&#10;Color: (207, 216, 220)\" style=\"width: 20px; height: 20px;background-color: rgb(207, 216, 220);\"></td><td title=\"Index: [5, 7]&#10;Color: (207, 216, 220)\" style=\"width: 20px; height: 20px;background-color: rgb(207, 216, 220);\"></td><td title=\"Index: [5, 8]&#10;Color: (207, 216, 220)\" style=\"width: 20px; height: 20px;background-color: rgb(207, 216, 220);\"></td><td title=\"Index: [5, 9]&#10;Color: (207, 216, 220)\" style=\"width: 20px; height: 20px;background-color: rgb(207, 216, 220);\"></td><td title=\"Index: [5, 10]&#10;Color: (207, 216, 220)\" style=\"width: 20px; height: 20px;background-color: rgb(207, 216, 220);\"></td></tr><tr><td title=\"Index: [6, 0]&#10;Color: (207, 216, 220)\" style=\"width: 20px; height: 20px;background-color: rgb(207, 216, 220);\"></td><td title=\"Index: [6, 1]&#10;Color: (207, 216, 220)\" style=\"width: 20px; height: 20px;background-color: rgb(207, 216, 220);\"></td><td title=\"Index: [6, 2]&#10;Color: (207, 216, 220)\" style=\"width: 20px; height: 20px;background-color: rgb(207, 216, 220);\"></td><td title=\"Index: [6, 3]&#10;Color: (207, 216, 220)\" style=\"width: 20px; height: 20px;background-color: rgb(207, 216, 220);\"></td><td title=\"Index: [6, 4]&#10;Color: (207, 216, 220)\" style=\"width: 20px; height: 20px;background-color: rgb(207, 216, 220);\"></td><td title=\"Index: [6, 5]&#10;Color: (207, 216, 220)\" style=\"width: 20px; height: 20px;background-color: rgb(207, 216, 220);\"></td><td title=\"Index: [6, 6]&#10;Color: (207, 216, 220)\" style=\"width: 20px; height: 20px;background-color: rgb(207, 216, 220);\"></td><td title=\"Index: [6, 7]&#10;Color: (207, 216, 220)\" style=\"width: 20px; height: 20px;background-color: rgb(207, 216, 220);\"></td><td title=\"Index: [6, 8]&#10;Color: (207, 216, 220)\" style=\"width: 20px; height: 20px;background-color: rgb(207, 216, 220);\"></td><td title=\"Index: [6, 9]&#10;Color: (207, 216, 220)\" style=\"width: 20px; height: 20px;background-color: rgb(207, 216, 220);\"></td><td title=\"Index: [6, 10]&#10;Color: (207, 216, 220)\" style=\"width: 20px; height: 20px;background-color: rgb(207, 216, 220);\"></td></tr><tr><td title=\"Index: [7, 0]&#10;Color: (207, 216, 220)\" style=\"width: 20px; height: 20px;background-color: rgb(207, 216, 220);\"></td><td title=\"Index: [7, 1]&#10;Color: (207, 216, 220)\" style=\"width: 20px; height: 20px;background-color: rgb(207, 216, 220);\"></td><td title=\"Index: [7, 2]&#10;Color: (207, 216, 220)\" style=\"width: 20px; height: 20px;background-color: rgb(207, 216, 220);\"></td><td title=\"Index: [7, 3]&#10;Color: (207, 216, 220)\" style=\"width: 20px; height: 20px;background-color: rgb(207, 216, 220);\"></td><td title=\"Index: [7, 4]&#10;Color: (207, 216, 220)\" style=\"width: 20px; height: 20px;background-color: rgb(207, 216, 220);\"></td><td title=\"Index: [7, 5]&#10;Color: (207, 216, 220)\" style=\"width: 20px; height: 20px;background-color: rgb(207, 216, 220);\"></td><td title=\"Index: [7, 6]&#10;Color: (207, 216, 220)\" style=\"width: 20px; height: 20px;background-color: rgb(207, 216, 220);\"></td><td title=\"Index: [7, 7]&#10;Color: (207, 216, 220)\" style=\"width: 20px; height: 20px;background-color: rgb(207, 216, 220);\"></td><td title=\"Index: [7, 8]&#10;Color: (207, 216, 220)\" style=\"width: 20px; height: 20px;background-color: rgb(207, 216, 220);\"></td><td title=\"Index: [7, 9]&#10;Color: (207, 216, 220)\" style=\"width: 20px; height: 20px;background-color: rgb(207, 216, 220);\"></td><td title=\"Index: [7, 10]&#10;Color: (207, 216, 220)\" style=\"width: 20px; height: 20px;background-color: rgb(207, 216, 220);\"></td></tr><tr><td title=\"Index: [8, 0]&#10;Color: (207, 216, 220)\" style=\"width: 20px; height: 20px;background-color: rgb(207, 216, 220);\"></td><td title=\"Index: [8, 1]&#10;Color: (207, 216, 220)\" style=\"width: 20px; height: 20px;background-color: rgb(207, 216, 220);\"></td><td title=\"Index: [8, 2]&#10;Color: (207, 216, 220)\" style=\"width: 20px; height: 20px;background-color: rgb(207, 216, 220);\"></td><td title=\"Index: [8, 3]&#10;Color: (207, 216, 220)\" style=\"width: 20px; height: 20px;background-color: rgb(207, 216, 220);\"></td><td title=\"Index: [8, 4]&#10;Color: (207, 216, 220)\" style=\"width: 20px; height: 20px;background-color: rgb(207, 216, 220);\"></td><td title=\"Index: [8, 5]&#10;Color: (207, 216, 220)\" style=\"width: 20px; height: 20px;background-color: rgb(207, 216, 220);\"></td><td title=\"Index: [8, 6]&#10;Color: (207, 216, 220)\" style=\"width: 20px; height: 20px;background-color: rgb(207, 216, 220);\"></td><td title=\"Index: [8, 7]&#10;Color: (207, 216, 220)\" style=\"width: 20px; height: 20px;background-color: rgb(207, 216, 220);\"></td><td title=\"Index: [8, 8]&#10;Color: (207, 216, 220)\" style=\"width: 20px; height: 20px;background-color: rgb(207, 216, 220);\"></td><td title=\"Index: [8, 9]&#10;Color: (207, 216, 220)\" style=\"width: 20px; height: 20px;background-color: rgb(207, 216, 220);\"></td><td title=\"Index: [8, 10]&#10;Color: (207, 216, 220)\" style=\"width: 20px; height: 20px;background-color: rgb(207, 216, 220);\"></td></tr><tr><td title=\"Index: [9, 0]&#10;Color: (207, 216, 220)\" style=\"width: 20px; height: 20px;background-color: rgb(207, 216, 220);\"></td><td title=\"Index: [9, 1]&#10;Color: (207, 216, 220)\" style=\"width: 20px; height: 20px;background-color: rgb(207, 216, 220);\"></td><td title=\"Index: [9, 2]&#10;Color: (207, 216, 220)\" style=\"width: 20px; height: 20px;background-color: rgb(207, 216, 220);\"></td><td title=\"Index: [9, 3]&#10;Color: (207, 216, 220)\" style=\"width: 20px; height: 20px;background-color: rgb(207, 216, 220);\"></td><td title=\"Index: [9, 4]&#10;Color: (207, 216, 220)\" style=\"width: 20px; height: 20px;background-color: rgb(207, 216, 220);\"></td><td title=\"Index: [9, 5]&#10;Color: (207, 216, 220)\" style=\"width: 20px; height: 20px;background-color: rgb(207, 216, 220);\"></td><td title=\"Index: [9, 6]&#10;Color: (207, 216, 220)\" style=\"width: 20px; height: 20px;background-color: rgb(207, 216, 220);\"></td><td title=\"Index: [9, 7]&#10;Color: (207, 216, 220)\" style=\"width: 20px; height: 20px;background-color: rgb(207, 216, 220);\"></td><td title=\"Index: [9, 8]&#10;Color: (207, 216, 220)\" style=\"width: 20px; height: 20px;background-color: rgb(207, 216, 220);\"></td><td title=\"Index: [9, 9]&#10;Color: (0, 191, 165)\" style=\"width: 20px; height: 20px;background-color: rgb(0, 191, 165);\"></td><td title=\"Index: [9, 10]&#10;Color: (207, 216, 220)\" style=\"width: 20px; height: 20px;background-color: rgb(207, 216, 220);\"></td></tr><tr><td title=\"Index: [10, 0]&#10;Color: (207, 216, 220)\" style=\"width: 20px; height: 20px;background-color: rgb(207, 216, 220);\"></td><td title=\"Index: [10, 1]&#10;Color: (207, 216, 220)\" style=\"width: 20px; height: 20px;background-color: rgb(207, 216, 220);\"></td><td title=\"Index: [10, 2]&#10;Color: (207, 216, 220)\" style=\"width: 20px; height: 20px;background-color: rgb(207, 216, 220);\"></td><td title=\"Index: [10, 3]&#10;Color: (207, 216, 220)\" style=\"width: 20px; height: 20px;background-color: rgb(207, 216, 220);\"></td><td title=\"Index: [10, 4]&#10;Color: (207, 216, 220)\" style=\"width: 20px; height: 20px;background-color: rgb(207, 216, 220);\"></td><td title=\"Index: [10, 5]&#10;Color: (207, 216, 220)\" style=\"width: 20px; height: 20px;background-color: rgb(207, 216, 220);\"></td><td title=\"Index: [10, 6]&#10;Color: (207, 216, 220)\" style=\"width: 20px; height: 20px;background-color: rgb(207, 216, 220);\"></td><td title=\"Index: [10, 7]&#10;Color: (207, 216, 220)\" style=\"width: 20px; height: 20px;background-color: rgb(207, 216, 220);\"></td><td title=\"Index: [10, 8]&#10;Color: (0, 191, 165)\" style=\"width: 20px; height: 20px;background-color: rgb(0, 191, 165);\"></td><td title=\"Index: [10, 9]&#10;Color: (207, 216, 220)\" style=\"width: 20px; height: 20px;background-color: rgb(207, 216, 220);\"></td><td title=\"Index: [10, 10]&#10;Color: (0, 191, 165)\" style=\"width: 20px; height: 20px;background-color: rgb(0, 191, 165);\"></td></tr></tbody></table>",
      "text/plain": "<IPython.core.display.HTML object>"
     },
     "metadata": {}
    },
    {
     "output_type": "stream",
     "name": "stdout",
     "text": "\n"
    }
   ],
   "source": [
    "environment = CleanupPuzzleEnvironment()\n",
    "\n",
    "ball = Ball()\n",
    "environment.add_thing(ball, (3,0))\n",
    "\n",
    "ball = Ball()\n",
    "environment.add_thing(ball, (4,1))\n",
    "\n",
    "ball = Ball()\n",
    "environment.add_thing(ball, (5,0))\n",
    "\n",
    "ball = Ball()\n",
    "environment.add_thing(ball, (10,8))\n",
    "\n",
    "ball = Ball()\n",
    "environment.add_thing(ball, (9,9))\n",
    "\n",
    "ball = Ball()\n",
    "environment.add_thing(ball, (10,10))\n",
    "\n",
    "\n",
    "print(environment)"
   ]
  },
  {
   "cell_type": "code",
   "execution_count": 29,
   "metadata": {},
   "outputs": [],
   "source": [
    "coordinates = [(3,1), (3,5), (4,5), (7,5), (2,8), (4,1), (7,1), (8,3), (10,4)]"
   ]
  },
  {
   "cell_type": "code",
   "execution_count": 31,
   "metadata": {},
   "outputs": [
    {
     "output_type": "execute_result",
     "data": {
      "text/plain": "False"
     },
     "metadata": {},
     "execution_count": 31
    }
   ],
   "source": [
    "(3,7) in coordinates"
   ]
  },
  {
   "cell_type": "code",
   "execution_count": null,
   "metadata": {},
   "outputs": [],
   "source": []
  }
 ]
}